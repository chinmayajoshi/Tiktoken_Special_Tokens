{
 "cells": [
  {
   "cell_type": "code",
   "execution_count": 1,
   "metadata": {},
   "outputs": [
    {
     "name": "stdout",
     "output_type": "stream",
     "text": [
      "Requirement already satisfied: tiktoken in c:\\users\\chinm\\anaconda3\\envs\\nlp\\lib\\site-packages (0.5.1)\n",
      "Requirement already satisfied: requests>=2.26.0 in c:\\users\\chinm\\anaconda3\\envs\\nlp\\lib\\site-packages (from tiktoken) (2.32.3)\n",
      "Requirement already satisfied: regex>=2022.1.18 in c:\\users\\chinm\\anaconda3\\envs\\nlp\\lib\\site-packages (from tiktoken) (2022.7.9)\n",
      "Requirement already satisfied: charset-normalizer<4,>=2 in c:\\users\\chinm\\anaconda3\\envs\\nlp\\lib\\site-packages (from requests>=2.26.0->tiktoken) (2.0.4)\n",
      "Requirement already satisfied: urllib3<3,>=1.21.1 in c:\\users\\chinm\\anaconda3\\envs\\nlp\\lib\\site-packages (from requests>=2.26.0->tiktoken) (1.26.14)\n",
      "Requirement already satisfied: idna<4,>=2.5 in c:\\users\\chinm\\anaconda3\\envs\\nlp\\lib\\site-packages (from requests>=2.26.0->tiktoken) (3.4)\n",
      "Requirement already satisfied: certifi>=2017.4.17 in c:\\users\\chinm\\anaconda3\\envs\\nlp\\lib\\site-packages (from requests>=2.26.0->tiktoken) (2022.12.7)\n",
      "Note: you may need to restart the kernel to use updated packages.\n"
     ]
    }
   ],
   "source": [
    "%pip install tiktoken"
   ]
  },
  {
   "cell_type": "code",
   "execution_count": 2,
   "metadata": {},
   "outputs": [],
   "source": [
    "import tiktoken"
   ]
  },
  {
   "cell_type": "code",
   "execution_count": 3,
   "metadata": {},
   "outputs": [],
   "source": [
    "# Model to Prefix Encoding from tiktoken github\n",
    "# https://github.com/openai/tiktoken/blob/main/tiktoken/model.py\n",
    "\n",
    "MODEL_PREFIX_TO_ENCODING = {\n",
    "    \"o1-\": \"o200k_base\",\n",
    "    # chat\n",
    "    \"chatgpt-4o-\": \"o200k_base\",\n",
    "    \"gpt-4o-\": \"o200k_base\",  # e.g., gpt-4o-2024-05-13\n",
    "    \"gpt-4-\": \"cl100k_base\",  # e.g., gpt-4-0314, etc., plus gpt-4-32k\n",
    "    \"gpt-3.5-turbo-\": \"cl100k_base\",  # e.g, gpt-3.5-turbo-0301, -0401, etc.\n",
    "    \"gpt-35-turbo-\": \"cl100k_base\",  # Azure deployment name\n",
    "    # fine-tuned\n",
    "    \"ft:gpt-4\": \"cl100k_base\",\n",
    "    \"ft:gpt-3.5-turbo\": \"cl100k_base\",\n",
    "    \"ft:davinci-002\": \"cl100k_base\",\n",
    "    \"ft:babbage-002\": \"cl100k_base\",\n",
    "}"
   ]
  },
  {
   "cell_type": "code",
   "execution_count": 4,
   "metadata": {},
   "outputs": [],
   "source": [
    "# Load the tokenizer for a specific model (e.g., 'gpt-3.5-turbo')\n",
    "tokenizer = tiktoken.encoding_for_model(\"gpt-4-\")"
   ]
  },
  {
   "cell_type": "code",
   "execution_count": 5,
   "metadata": {},
   "outputs": [
    {
     "data": {
      "text/plain": [
       "{'<|endoftext|>': 100257,\n",
       " '<|fim_prefix|>': 100258,\n",
       " '<|fim_middle|>': 100259,\n",
       " '<|fim_suffix|>': 100260,\n",
       " '<|endofprompt|>': 100276}"
      ]
     },
     "execution_count": 5,
     "metadata": {},
     "output_type": "execute_result"
    }
   ],
   "source": [
    "tokenizer._special_tokens"
   ]
  },
  {
   "cell_type": "code",
   "execution_count": 6,
   "metadata": {},
   "outputs": [
    {
     "data": {
      "text/plain": [
       "{'<|endofprompt|>',\n",
       " '<|endoftext|>',\n",
       " '<|fim_middle|>',\n",
       " '<|fim_prefix|>',\n",
       " '<|fim_suffix|>'}"
      ]
     },
     "execution_count": 6,
     "metadata": {},
     "output_type": "execute_result"
    }
   ],
   "source": [
    "tokenizer.special_tokens_set"
   ]
  },
  {
   "cell_type": "code",
   "execution_count": 7,
   "metadata": {},
   "outputs": [
    {
     "name": "stdout",
     "output_type": "stream",
     "text": [
      "Failure for o1- with error: 'Could not automatically map o1- to a tokeniser. Please use `tiktoken.get_encoding` to explicitly get the tokeniser you expect.'\n",
      "Failure for chatgpt-4o- with error: 'Could not automatically map chatgpt-4o- to a tokeniser. Please use `tiktoken.get_encoding` to explicitly get the tokeniser you expect.'\n",
      "Failure for gpt-4o- with error: 'Could not automatically map gpt-4o- to a tokeniser. Please use `tiktoken.get_encoding` to explicitly get the tokeniser you expect.'\n",
      "------------gpt-4-------------\n",
      "{'<|endoftext|>': 100257, '<|fim_prefix|>': 100258, '<|fim_middle|>': 100259, '<|fim_suffix|>': 100260, '<|endofprompt|>': 100276}\n",
      "------------gpt-3.5-turbo-------------\n",
      "{'<|endoftext|>': 100257, '<|fim_prefix|>': 100258, '<|fim_middle|>': 100259, '<|fim_suffix|>': 100260, '<|endofprompt|>': 100276}\n",
      "------------gpt-35-turbo-------------\n",
      "{'<|endoftext|>': 100257, '<|fim_prefix|>': 100258, '<|fim_middle|>': 100259, '<|fim_suffix|>': 100260, '<|endofprompt|>': 100276}\n",
      "------------ft:gpt-4------------\n",
      "{'<|endoftext|>': 100257, '<|fim_prefix|>': 100258, '<|fim_middle|>': 100259, '<|fim_suffix|>': 100260, '<|endofprompt|>': 100276}\n",
      "------------ft:gpt-3.5-turbo------------\n",
      "{'<|endoftext|>': 100257, '<|fim_prefix|>': 100258, '<|fim_middle|>': 100259, '<|fim_suffix|>': 100260, '<|endofprompt|>': 100276}\n",
      "------------ft:davinci-002------------\n",
      "{'<|endoftext|>': 100257, '<|fim_prefix|>': 100258, '<|fim_middle|>': 100259, '<|fim_suffix|>': 100260, '<|endofprompt|>': 100276}\n",
      "------------ft:babbage-002------------\n",
      "{'<|endoftext|>': 100257, '<|fim_prefix|>': 100258, '<|fim_middle|>': 100259, '<|fim_suffix|>': 100260, '<|endofprompt|>': 100276}\n"
     ]
    }
   ],
   "source": [
    "# Load the tokenizer for a specific model (e.g., 'gpt-3.5-turbo')\n",
    "for k in MODEL_PREFIX_TO_ENCODING.keys():\n",
    "    try:        \n",
    "        tokenizer = tiktoken.encoding_for_model(k)\n",
    "        print(f'------------{k}------------')\n",
    "        print(tokenizer._special_tokens)\n",
    "    except Exception as e:\n",
    "        print(f\"Failure for {k} with error: {e}\")"
   ]
  }
 ],
 "metadata": {
  "kernelspec": {
   "display_name": "nlp",
   "language": "python",
   "name": "python3"
  },
  "language_info": {
   "codemirror_mode": {
    "name": "ipython",
    "version": 3
   },
   "file_extension": ".py",
   "mimetype": "text/x-python",
   "name": "python",
   "nbconvert_exporter": "python",
   "pygments_lexer": "ipython3",
   "version": "3.8.16"
  }
 },
 "nbformat": 4,
 "nbformat_minor": 2
}
